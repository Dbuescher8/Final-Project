{
 "cells": [
  {
   "cell_type": "code",
   "execution_count": 1,
   "metadata": {},
   "outputs": [],
   "source": [
    "%matplotlib inline\n",
    "import matplotlib.pyplot as plt\n",
    "import numpy as np\n",
    "import pandas as pd\n",
    "from sklearn.linear_model import LinearRegression\n",
    "import requests\n",
    "import json\n",
    "import random\n",
    "from pprint import pprint"
   ]
  },
  {
   "cell_type": "code",
   "execution_count": 2,
   "metadata": {},
   "outputs": [
    {
     "data": {
      "text/html": [
       "<div>\n",
       "<style scoped>\n",
       "    .dataframe tbody tr th:only-of-type {\n",
       "        vertical-align: middle;\n",
       "    }\n",
       "\n",
       "    .dataframe tbody tr th {\n",
       "        vertical-align: top;\n",
       "    }\n",
       "\n",
       "    .dataframe thead th {\n",
       "        text-align: right;\n",
       "    }\n",
       "</style>\n",
       "<table border=\"1\" class=\"dataframe\">\n",
       "  <thead>\n",
       "    <tr style=\"text-align: right;\">\n",
       "      <th></th>\n",
       "      <th>Name</th>\n",
       "      <th>Type</th>\n",
       "      <th>HP</th>\n",
       "      <th>Attack</th>\n",
       "      <th>Defense</th>\n",
       "      <th>Special Attack</th>\n",
       "      <th>Special Defense</th>\n",
       "      <th>Speed</th>\n",
       "      <th>varATT</th>\n",
       "      <th>varDEF</th>\n",
       "      <th>Avg</th>\n",
       "      <th>vs.</th>\n",
       "      <th>Score</th>\n",
       "      <th>W/L</th>\n",
       "    </tr>\n",
       "  </thead>\n",
       "  <tbody>\n",
       "    <tr>\n",
       "      <th>0</th>\n",
       "      <td>abra</td>\n",
       "      <td>psychic</td>\n",
       "      <td>25</td>\n",
       "      <td>20</td>\n",
       "      <td>15</td>\n",
       "      <td>105</td>\n",
       "      <td>55</td>\n",
       "      <td>90</td>\n",
       "      <td>95.00</td>\n",
       "      <td>42.5</td>\n",
       "      <td>68.750</td>\n",
       "      <td>pidgey</td>\n",
       "      <td>1.750</td>\n",
       "      <td>1</td>\n",
       "    </tr>\n",
       "    <tr>\n",
       "      <th>1</th>\n",
       "      <td>aerodactyl</td>\n",
       "      <td>rock</td>\n",
       "      <td>80</td>\n",
       "      <td>105</td>\n",
       "      <td>65</td>\n",
       "      <td>60</td>\n",
       "      <td>75</td>\n",
       "      <td>130</td>\n",
       "      <td>167.50</td>\n",
       "      <td>102.5</td>\n",
       "      <td>135.000</td>\n",
       "      <td>pinsir</td>\n",
       "      <td>-19.375</td>\n",
       "      <td>0</td>\n",
       "    </tr>\n",
       "    <tr>\n",
       "      <th>2</th>\n",
       "      <td>alakazam</td>\n",
       "      <td>psychic</td>\n",
       "      <td>55</td>\n",
       "      <td>50</td>\n",
       "      <td>45</td>\n",
       "      <td>135</td>\n",
       "      <td>95</td>\n",
       "      <td>120</td>\n",
       "      <td>147.50</td>\n",
       "      <td>92.5</td>\n",
       "      <td>120.000</td>\n",
       "      <td>articuno</td>\n",
       "      <td>-38.125</td>\n",
       "      <td>0</td>\n",
       "    </tr>\n",
       "    <tr>\n",
       "      <th>3</th>\n",
       "      <td>arbok</td>\n",
       "      <td>poison</td>\n",
       "      <td>60</td>\n",
       "      <td>95</td>\n",
       "      <td>69</td>\n",
       "      <td>65</td>\n",
       "      <td>79</td>\n",
       "      <td>80</td>\n",
       "      <td>147.50</td>\n",
       "      <td>108.5</td>\n",
       "      <td>128.000</td>\n",
       "      <td>cloyster</td>\n",
       "      <td>-50.750</td>\n",
       "      <td>0</td>\n",
       "    </tr>\n",
       "    <tr>\n",
       "      <th>4</th>\n",
       "      <td>arcanine</td>\n",
       "      <td>fire</td>\n",
       "      <td>90</td>\n",
       "      <td>110</td>\n",
       "      <td>80</td>\n",
       "      <td>100</td>\n",
       "      <td>80</td>\n",
       "      <td>95</td>\n",
       "      <td>183.75</td>\n",
       "      <td>120.0</td>\n",
       "      <td>151.875</td>\n",
       "      <td>nidorino</td>\n",
       "      <td>51.750</td>\n",
       "      <td>1</td>\n",
       "    </tr>\n",
       "  </tbody>\n",
       "</table>\n",
       "</div>"
      ],
      "text/plain": [
       "         Name     Type  HP  Attack  Defense  Special Attack  Special Defense  \\\n",
       "0        abra  psychic  25      20       15             105               55   \n",
       "1  aerodactyl     rock  80     105       65              60               75   \n",
       "2    alakazam  psychic  55      50       45             135               95   \n",
       "3       arbok   poison  60      95       69              65               79   \n",
       "4    arcanine     fire  90     110       80             100               80   \n",
       "\n",
       "   Speed  varATT  varDEF      Avg       vs.   Score  W/L  \n",
       "0     90   95.00    42.5   68.750    pidgey   1.750    1  \n",
       "1    130  167.50   102.5  135.000    pinsir -19.375    0  \n",
       "2    120  147.50    92.5  120.000  articuno -38.125    0  \n",
       "3     80  147.50   108.5  128.000  cloyster -50.750    0  \n",
       "4     95  183.75   120.0  151.875  nidorino  51.750    1  "
      ]
     },
     "execution_count": 2,
     "metadata": {},
     "output_type": "execute_result"
    }
   ],
   "source": [
    "filePath2 = \"testingDF_results.csv\"\n",
    "poke_df = pd.read_csv(filePath2)\n",
    "poke_df.head()"
   ]
  },
  {
   "cell_type": "code",
   "execution_count": 25,
   "metadata": {},
   "outputs": [
    {
     "name": "stdout",
     "output_type": "stream",
     "text": [
      "Labels: [1 0 0 0 1 1 0 0 1 0]\n",
      "Data:    HP  Attack  Defense  Special Attack  Special Defense  Speed\n",
      "0  25      20       15             105               55     90\n",
      "1  80     105       65              60               75    130\n",
      "2  55      50       45             135               95    120\n",
      "3  60      95       69              65               79     80\n",
      "4  90     110       80             100               80     95\n",
      "5  90      85      100              95              125     85\n",
      "6  65      90       40              45               80     75\n",
      "7  50      75       35              70               30     40\n",
      "8  79      83      100              85              105     78\n",
      "9  45      49       49              65               65     45\n"
     ]
    }
   ],
   "source": [
    "X = poke_df[[\"HP\", \"Attack\", \"Defense\", \"Special Attack\", \"Special Defense\", \"Speed\"]]\n",
    "y = poke_df[\"W/L\"].values.reshape(-1)\n",
    "print(f\"Labels: {y[:10]}\")\n",
    "print(f\"Data: {X[:10]}\")"
   ]
  },
  {
   "cell_type": "code",
   "execution_count": 26,
   "metadata": {},
   "outputs": [],
   "source": [
    "from sklearn.model_selection import train_test_split\n",
    "\n",
    "X_train, X_test, y_train, y_test = train_test_split(X, y, random_state=1)"
   ]
  },
  {
   "cell_type": "code",
   "execution_count": 27,
   "metadata": {},
   "outputs": [
    {
     "data": {
      "text/plain": [
       "LogisticRegression()"
      ]
     },
     "execution_count": 27,
     "metadata": {},
     "output_type": "execute_result"
    }
   ],
   "source": [
    "from sklearn.linear_model import LogisticRegression\n",
    "classifier = LogisticRegression()\n",
    "classifier"
   ]
  },
  {
   "cell_type": "code",
   "execution_count": 28,
   "metadata": {},
   "outputs": [
    {
     "data": {
      "text/plain": [
       "LogisticRegression()"
      ]
     },
     "execution_count": 28,
     "metadata": {},
     "output_type": "execute_result"
    }
   ],
   "source": [
    "classifier.fit(X_train, y_train)"
   ]
  },
  {
   "cell_type": "code",
   "execution_count": 29,
   "metadata": {},
   "outputs": [
    {
     "name": "stdout",
     "output_type": "stream",
     "text": [
      "Training Data Score: 0.7787610619469026\n",
      "Testing Data Score: 0.6578947368421053\n"
     ]
    }
   ],
   "source": [
    "print(f\"Training Data Score: {classifier.score(X_train, y_train)}\")3\n",
    "print(f\"Testing Data Score: {classifier.score(X_test, y_test)}\")"
   ]
  },
  {
   "cell_type": "code",
   "execution_count": null,
   "metadata": {},
   "outputs": [],
   "source": []
  }
 ],
 "metadata": {
  "kernelspec": {
   "display_name": "Python 3",
   "language": "python",
   "name": "python3"
  },
  "language_info": {
   "codemirror_mode": {
    "name": "ipython",
    "version": 3
   },
   "file_extension": ".py",
   "mimetype": "text/x-python",
   "name": "python",
   "nbconvert_exporter": "python",
   "pygments_lexer": "ipython3",
   "version": "3.8.5"
  }
 },
 "nbformat": 4,
 "nbformat_minor": 4
}
